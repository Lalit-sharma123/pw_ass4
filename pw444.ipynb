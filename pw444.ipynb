{
  "nbformat": 4,
  "nbformat_minor": 0,
  "metadata": {
    "colab": {
      "provenance": []
    },
    "kernelspec": {
      "name": "python3",
      "display_name": "Python 3"
    },
    "language_info": {
      "name": "python"
    }
  },
  "cells": [
    {
      "cell_type": "code",
      "source": [
        "# theory Question"
      ],
      "metadata": {
        "id": "-5UngVjHWFkP"
      },
      "execution_count": null,
      "outputs": []
    },
    {
      "cell_type": "markdown",
      "source": [
        "Question 1: What is the difference between a function and a method in Python?\n"
      ],
      "metadata": {
        "id": "acrGT3JpNBN9"
      }
    },
    {
      "cell_type": "markdown",
      "source": [
        "Ans 1: Function: A function is a block of code  that perform a specific task.it define using the def keyword.\n",
        "\n",
        "Method: A method is a function that is associated with an object.Methods are called on object, and  the first argument of a method is usually self which refers  to the instance  of the class"
      ],
      "metadata": {
        "id": "2gQgOw3-NoL9"
      }
    },
    {
      "cell_type": "code",
      "source": [
        "# example of function\n",
        "\n",
        "def greet():\n",
        "  print(\"Hello\")\n",
        "  # calling function\n",
        "greet()"
      ],
      "metadata": {
        "colab": {
          "base_uri": "https://localhost:8080/"
        },
        "id": "c8DBnY3mNWHQ",
        "outputId": "5701cc09-e9fb-45fa-e23e-541657c404c0"
      },
      "execution_count": null,
      "outputs": [
        {
          "output_type": "stream",
          "name": "stdout",
          "text": [
            "Hello\n"
          ]
        }
      ]
    },
    {
      "cell_type": "code",
      "source": [
        "# example of method\n",
        "class Greeter:\n",
        "  def greet(self):\n",
        "    print(\"Hello\")\n",
        "greeter=Greeter()\n",
        "greeter.greet() # calling a mehod on a object"
      ],
      "metadata": {
        "colab": {
          "base_uri": "https://localhost:8080/"
        },
        "id": "HOYsnQ0iWFlZ",
        "outputId": "bde0d5a5-d577-4a59-d2c1-0d69eab51358"
      },
      "execution_count": null,
      "outputs": [
        {
          "output_type": "stream",
          "name": "stdout",
          "text": [
            "Hello\n"
          ]
        }
      ]
    },
    {
      "cell_type": "markdown",
      "source": [
        "Question2: Explain the concept of function arguments and parameters in Python."
      ],
      "metadata": {
        "id": "XplNNMU1W_Z2"
      }
    },
    {
      "cell_type": "markdown",
      "source": [
        "Ans2: Argument: Argument are the actual values or data you provide to function when calling it.\n",
        "\n",
        "Example: greet(\"Ram\")\n",
        "Ram is an argument\n",
        "\n",
        "Parameter: Parameter are the varriables listed inside the parantheses in a function definition. They act as placeholder for the values that will bbe the passed to the function when i is called\n",
        "\n",
        "Example def greet(name):\n",
        " here name is the parameter"
      ],
      "metadata": {
        "id": "KXRQ7EivXJQ1"
      }
    },
    {
      "cell_type": "markdown",
      "source": [
        "Question 3:What are the different ways to define and call a function in Python."
      ],
      "metadata": {
        "id": "IcNMxM0MZFmV"
      }
    },
    {
      "cell_type": "markdown",
      "source": [
        "Ans3: 1.Lambda function: Lambda function is a single line anonymous functions defined with the lambda keyword. they take any number of argument but have only one expression.\n",
        "\n",
        "syntax: lambda arguments:expression\n",
        "\n",
        "2.Regular function: A function is typically defined using the def keyword\n",
        "\n",
        "syntax: def function_name(Parameter)\n"
      ],
      "metadata": {
        "id": "HvB_TI0IZQx2"
      }
    },
    {
      "cell_type": "markdown",
      "source": [
        "Question 4: What is the purpose of the `return` statement in a Python function"
      ],
      "metadata": {
        "id": "4pra9eoWaxb-"
      }
    },
    {
      "cell_type": "markdown",
      "source": [
        "Ans 4: The return statement in python is used to exit a function and send a value back to the caller.\n",
        "->Return multiple values\n",
        "\n",
        "-> Exit the function\n",
        "\n",
        "->Return a value from a function"
      ],
      "metadata": {
        "id": "_-Koyp5Ra4au"
      }
    },
    {
      "cell_type": "markdown",
      "source": [
        "Question 5:What are iterators in Python and how do they differ from iterables"
      ],
      "metadata": {
        "id": "sDiTZtTbbuv9"
      }
    },
    {
      "cell_type": "markdown",
      "source": [
        "Ans 5: Iterator: An ierator is an object that represent a stream of data  return the data ones\n",
        "\n",
        "Ex: my_list=[1,2,3]\n",
        "    iterator=iter(my_list)\n",
        "    print(next(iterator))\n",
        "    print(next(iterator))\n",
        "    print(next(iterator))\n",
        "\n",
        "output: 1\n",
        "        2\n",
        "        3\n",
        "\n",
        "Iterable: An iterable is an python object that can return an iterator, which allows iteration over its elements.\n",
        "\n",
        "Ex: lists,tuples,string,sets,dictionariess"
      ],
      "metadata": {
        "id": "4mS2KJb2b0xV"
      }
    },
    {
      "cell_type": "markdown",
      "source": [
        "Question 6:Explain the concept of generators in Python and how they are defined."
      ],
      "metadata": {
        "id": "KwfIBM_Sd2T8"
      }
    },
    {
      "cell_type": "markdown",
      "source": [
        "Ans 6: a generator is a special  tyype of iterator that is defined using a function with the yield statement.\n",
        "\n",
        "syntax of defining:\n",
        "\n",
        "def generator_function():\n",
        "    yeild value"
      ],
      "metadata": {
        "id": "rAlSIDIed9ZN"
      }
    },
    {
      "cell_type": "markdown",
      "source": [
        "Question 7: What are the advantages of using generators over regular functions"
      ],
      "metadata": {
        "id": "KPvam8eae1Ec"
      }
    },
    {
      "cell_type": "markdown",
      "source": [
        "Ans 7: 1.Memory efficieny\n",
        "\n",
        "generators are generate values one at a time and also as needed,which is highly memory efficient\n",
        "\n",
        "Regular Function:- Typically retun all result"
      ],
      "metadata": {
        "id": "A16Pr0QXe7cM"
      }
    },
    {
      "cell_type": "markdown",
      "source": [
        " Question 8:What is a lambda function in Python and when is it typically used?"
      ],
      "metadata": {
        "id": "sON9THD55djg"
      }
    },
    {
      "cell_type": "markdown",
      "source": [
        "Ans 8:A lambda function in Python is a small, anonymous function defined using the lambda keyword.\n",
        "\n",
        "syntax: lambda argument:expression\n",
        "\n",
        "Typical Uses\n",
        "Lambda functions are commonly used in the following scenarios:\n",
        "\n",
        "1.As a key function in sorting\n",
        "\n",
        "2.With the filter() function\n",
        "\n",
        "3.With the map() function\n",
        "\n",
        "4. With the reduce() function\n"
      ],
      "metadata": {
        "id": "rnKnP-786Iol"
      }
    },
    {
      "cell_type": "markdown",
      "source": [
        "Question 9:  Explain the purpose and usage of the `map()` function in Python"
      ],
      "metadata": {
        "id": "IKtEcAOn7Txo"
      }
    },
    {
      "cell_type": "markdown",
      "source": [
        "Ans  9: Executes a specified function for each of items of an iterable.\n",
        "\n",
        "syntax: map(function,*iterables)\n",
        "\n"
      ],
      "metadata": {
        "id": "9KyKSt5h7bG9"
      }
    },
    {
      "cell_type": "code",
      "source": [
        "# example of map() functiion\n",
        "\n",
        "def square(x):\n",
        "  return x*x\n",
        "numbers=[1,2,3,4,5]\n",
        "list(map(square,numbers))"
      ],
      "metadata": {
        "colab": {
          "base_uri": "https://localhost:8080/"
        },
        "id": "Waxk9gYC8EIp",
        "outputId": "488e8304-e8b9-4bd4-84f5-2b7b68bedf2b"
      },
      "execution_count": null,
      "outputs": [
        {
          "output_type": "execute_result",
          "data": {
            "text/plain": [
              "[1, 4, 9, 16, 25]"
            ]
          },
          "metadata": {},
          "execution_count": 1
        }
      ]
    },
    {
      "cell_type": "markdown",
      "source": [
        "Question 10:  What is the difference between `map()`, `reduce()`, and `filter()` functions in Python?"
      ],
      "metadata": {
        "id": "wBCNvJQB83Z3"
      }
    },
    {
      "cell_type": "markdown",
      "source": [
        "Ans 10: 1. map():-> executes a specified function for each of items of an iterable\n",
        "\n",
        "syntax: map(function,iterable)\n",
        "\n",
        "2. reduce():-> folding/reduction\n",
        "Purpose: Applies a function cumulatively to the items of an iterable, reducing the iterable to a single value.\n",
        "\n",
        "syntax:reduce(function,iterable)\n",
        "\n",
        "\n",
        "3.filter():-> it is used to filter element from an iterable based on some condition\n",
        "\n",
        "\n",
        "syntax:filter(function,iterable)\n"
      ],
      "metadata": {
        "id": "fS7qpaz79AR4"
      }
    },
    {
      "cell_type": "code",
      "source": [
        "# example of map() function\n",
        "\n",
        "l=['1','2','3','4','5']\n",
        "list(map(lambda x: int(x),l))"
      ],
      "metadata": {
        "colab": {
          "base_uri": "https://localhost:8080/"
        },
        "id": "VEwKK7KH-arV",
        "outputId": "f00291fe-d5f1-42bf-fbe2-790496c8fab5"
      },
      "execution_count": null,
      "outputs": [
        {
          "output_type": "execute_result",
          "data": {
            "text/plain": [
              "[1, 2, 3, 4, 5]"
            ]
          },
          "metadata": {},
          "execution_count": 2
        }
      ]
    },
    {
      "cell_type": "code",
      "source": [
        "# example of reduce() function\n",
        "from functools import reduce\n",
        "l=[1,2,3,4,5,6]\n",
        "reduce(lambda x,y:x+y,l)"
      ],
      "metadata": {
        "colab": {
          "base_uri": "https://localhost:8080/"
        },
        "id": "u-AfVHLY-64I",
        "outputId": "3231953f-edd4-495c-adbb-90794fbe7abe"
      },
      "execution_count": null,
      "outputs": [
        {
          "output_type": "execute_result",
          "data": {
            "text/plain": [
              "21"
            ]
          },
          "metadata": {},
          "execution_count": 6
        }
      ]
    },
    {
      "cell_type": "code",
      "source": [
        "#exampple of filter() function\n",
        "\n",
        "def check_even(num):\n",
        "  if num%2==0:\n",
        "    return True\n",
        "  return False\n",
        "num=[1,2,3,4,5,6,7,8,9,10]\n",
        "list(filter(check_even,num))"
      ],
      "metadata": {
        "colab": {
          "base_uri": "https://localhost:8080/"
        },
        "id": "yNvQrVFo_uSD",
        "outputId": "e32be234-1d40-43c7-e5c0-33ad77ada9ff"
      },
      "execution_count": null,
      "outputs": [
        {
          "output_type": "execute_result",
          "data": {
            "text/plain": [
              "[2, 4, 6, 8, 10]"
            ]
          },
          "metadata": {},
          "execution_count": 7
        }
      ]
    },
    {
      "cell_type": "markdown",
      "source": [
        "Question 11:  Using pen & Paper write the internal mechanism for sum operation using  reduce function on this given\n",
        "list:[47,11,42,13];\n"
      ],
      "metadata": {
        "id": "CmiOUib7AcW5"
      }
    },
    {
      "cell_type": "markdown",
      "source": [
        "Ans 11: Internal mechanism\n",
        "\n",
        "step1: reduce start with the first two element: 47 and 11\n",
        "47+11=58\n",
        "\n",
        "step2:the result is 58 is the combine with the next element that is 42\n",
        "Then, applied add function 58+42=100\n",
        "\n",
        "final step: the result is 100 is the combine with the next element that is 13\n",
        "Then, applied add function 100+13=113\n",
        "\n",
        "\n",
        "the sum of the list using the reduce function is =113"
      ],
      "metadata": {
        "id": "jpAztUcbB65s"
      }
    },
    {
      "cell_type": "code",
      "source": [
        "# 1. Import the reduce function\n",
        "# 2.Define the list\n",
        "# 3.Define the function to be used by reduce\n",
        "# Apply the reduce function\n",
        "\n",
        "from functools import reduce\n",
        "l=[47,11,42,13]\n",
        "\n",
        "def add(a,b):\n",
        "  return a+b\n",
        "\n",
        "total=reduce(add,l)\n",
        "print(total)"
      ],
      "metadata": {
        "colab": {
          "base_uri": "https://localhost:8080/"
        },
        "id": "ucZV1_SpAjeE",
        "outputId": "6646abf1-1cdc-4753-fc1d-4a0c8e329859"
      },
      "execution_count": null,
      "outputs": [
        {
          "output_type": "stream",
          "name": "stdout",
          "text": [
            "113\n"
          ]
        }
      ]
    },
    {
      "cell_type": "markdown",
      "source": [
        "Practical Questions :"
      ],
      "metadata": {
        "id": "E6yr1KAIDCaM"
      }
    },
    {
      "cell_type": "markdown",
      "source": [
        "Question 1: Write a Python function that takes a list of numbers as input and returns the sum of all even numbers in\n",
        "the list"
      ],
      "metadata": {
        "id": "KoWF_NLLDJDO"
      }
    },
    {
      "cell_type": "code",
      "source": [
        "def sum_even(x):\n",
        "  return sum(i for i in x if i%2==0)\n",
        "x=[1,2,3,4,5,6,7,8,9,10]\n",
        "sum_even(x)"
      ],
      "metadata": {
        "colab": {
          "base_uri": "https://localhost:8080/"
        },
        "id": "xrfudGffDQ0b",
        "outputId": "d4caab4c-f55f-4074-c8ab-14d8842c4805"
      },
      "execution_count": null,
      "outputs": [
        {
          "output_type": "execute_result",
          "data": {
            "text/plain": [
              "30"
            ]
          },
          "metadata": {},
          "execution_count": 15
        }
      ]
    },
    {
      "cell_type": "markdown",
      "source": [
        "Question 2. Create a Python function that accepts a string and returns the reverse of that string."
      ],
      "metadata": {
        "id": "MhMWgKeXSLPa"
      }
    },
    {
      "cell_type": "code",
      "source": [
        "def reverse_str(x):\n",
        "  return x[::-1]\n",
        "x='hello world'\n",
        "reverse_str(x)"
      ],
      "metadata": {
        "colab": {
          "base_uri": "https://localhost:8080/",
          "height": 36
        },
        "id": "Piqa3ZzKSS3-",
        "outputId": "ad83278f-e51b-427b-ee80-7612490ba014"
      },
      "execution_count": null,
      "outputs": [
        {
          "output_type": "execute_result",
          "data": {
            "text/plain": [
              "'dlrow olleh'"
            ],
            "application/vnd.google.colaboratory.intrinsic+json": {
              "type": "string"
            }
          },
          "metadata": {},
          "execution_count": 21
        }
      ]
    },
    {
      "cell_type": "markdown",
      "source": [
        "Question 3. Implement a Python function that takes a list of integers and returns a new list containing the squares of\n",
        "each number"
      ],
      "metadata": {
        "id": "7CBbh6C8SxXz"
      }
    },
    {
      "cell_type": "code",
      "source": [
        "def sq_list(numbers):\n",
        "  return[i**2 for i in numbers]\n",
        "numbers=[1,2,3,4,5]\n",
        "Square_number=sq_list(numbers)\n",
        "Square_number"
      ],
      "metadata": {
        "colab": {
          "base_uri": "https://localhost:8080/"
        },
        "id": "iAlQRHybS2YK",
        "outputId": "e25fdcb6-f583-4d8a-8aa5-b3b87be44ad0"
      },
      "execution_count": null,
      "outputs": [
        {
          "output_type": "execute_result",
          "data": {
            "text/plain": [
              "[1, 4, 9, 16, 25]"
            ]
          },
          "metadata": {},
          "execution_count": 12
        }
      ]
    },
    {
      "cell_type": "markdown",
      "source": [
        "Question 4. Write a Python function that checks if a given number is prime or not from 1 to 200"
      ],
      "metadata": {
        "id": "qJ3YVmSaYzYz"
      }
    },
    {
      "cell_type": "code",
      "source": [
        "def is_prime(number):\n",
        "  # prime number is greater than 1\n",
        "  if number<2:\n",
        "    return False\n",
        "  for i in range(2,int(number**0.5)+1):  # check divisibility up o square root of the number\n",
        "   if number%i==0:\n",
        "    return False\n",
        "  return True\n",
        "\n",
        "# check the number fom 1 to 200\n",
        "\n",
        "for num in range(1,201):\n",
        "  if is_prime(num):\n",
        "    print(f\"{num} is a prime number\")\n",
        "  else:\n",
        "    print(f\"{num} is not prime\")\n"
      ],
      "metadata": {
        "id": "_26dFD6hZFp4",
        "colab": {
          "base_uri": "https://localhost:8080/"
        },
        "outputId": "b0987e9f-b858-4b6d-b546-ee4dca9204a2"
      },
      "execution_count": null,
      "outputs": [
        {
          "output_type": "stream",
          "name": "stdout",
          "text": [
            "1 is not prime\n",
            "2 is a prime number\n",
            "3 is a prime number\n",
            "4 is not prime\n",
            "5 is a prime number\n",
            "6 is not prime\n",
            "7 is a prime number\n",
            "8 is not prime\n",
            "9 is not prime\n",
            "10 is not prime\n",
            "11 is a prime number\n",
            "12 is not prime\n",
            "13 is a prime number\n",
            "14 is not prime\n",
            "15 is not prime\n",
            "16 is not prime\n",
            "17 is a prime number\n",
            "18 is not prime\n",
            "19 is a prime number\n",
            "20 is not prime\n",
            "21 is not prime\n",
            "22 is not prime\n",
            "23 is a prime number\n",
            "24 is not prime\n",
            "25 is not prime\n",
            "26 is not prime\n",
            "27 is not prime\n",
            "28 is not prime\n",
            "29 is a prime number\n",
            "30 is not prime\n",
            "31 is a prime number\n",
            "32 is not prime\n",
            "33 is not prime\n",
            "34 is not prime\n",
            "35 is not prime\n",
            "36 is not prime\n",
            "37 is a prime number\n",
            "38 is not prime\n",
            "39 is not prime\n",
            "40 is not prime\n",
            "41 is a prime number\n",
            "42 is not prime\n",
            "43 is a prime number\n",
            "44 is not prime\n",
            "45 is not prime\n",
            "46 is not prime\n",
            "47 is a prime number\n",
            "48 is not prime\n",
            "49 is not prime\n",
            "50 is not prime\n",
            "51 is not prime\n",
            "52 is not prime\n",
            "53 is a prime number\n",
            "54 is not prime\n",
            "55 is not prime\n",
            "56 is not prime\n",
            "57 is not prime\n",
            "58 is not prime\n",
            "59 is a prime number\n",
            "60 is not prime\n",
            "61 is a prime number\n",
            "62 is not prime\n",
            "63 is not prime\n",
            "64 is not prime\n",
            "65 is not prime\n",
            "66 is not prime\n",
            "67 is a prime number\n",
            "68 is not prime\n",
            "69 is not prime\n",
            "70 is not prime\n",
            "71 is a prime number\n",
            "72 is not prime\n",
            "73 is a prime number\n",
            "74 is not prime\n",
            "75 is not prime\n",
            "76 is not prime\n",
            "77 is not prime\n",
            "78 is not prime\n",
            "79 is a prime number\n",
            "80 is not prime\n",
            "81 is not prime\n",
            "82 is not prime\n",
            "83 is a prime number\n",
            "84 is not prime\n",
            "85 is not prime\n",
            "86 is not prime\n",
            "87 is not prime\n",
            "88 is not prime\n",
            "89 is a prime number\n",
            "90 is not prime\n",
            "91 is not prime\n",
            "92 is not prime\n",
            "93 is not prime\n",
            "94 is not prime\n",
            "95 is not prime\n",
            "96 is not prime\n",
            "97 is a prime number\n",
            "98 is not prime\n",
            "99 is not prime\n",
            "100 is not prime\n",
            "101 is a prime number\n",
            "102 is not prime\n",
            "103 is a prime number\n",
            "104 is not prime\n",
            "105 is not prime\n",
            "106 is not prime\n",
            "107 is a prime number\n",
            "108 is not prime\n",
            "109 is a prime number\n",
            "110 is not prime\n",
            "111 is not prime\n",
            "112 is not prime\n",
            "113 is a prime number\n",
            "114 is not prime\n",
            "115 is not prime\n",
            "116 is not prime\n",
            "117 is not prime\n",
            "118 is not prime\n",
            "119 is not prime\n",
            "120 is not prime\n",
            "121 is not prime\n",
            "122 is not prime\n",
            "123 is not prime\n",
            "124 is not prime\n",
            "125 is not prime\n",
            "126 is not prime\n",
            "127 is a prime number\n",
            "128 is not prime\n",
            "129 is not prime\n",
            "130 is not prime\n",
            "131 is a prime number\n",
            "132 is not prime\n",
            "133 is not prime\n",
            "134 is not prime\n",
            "135 is not prime\n",
            "136 is not prime\n",
            "137 is a prime number\n",
            "138 is not prime\n",
            "139 is a prime number\n",
            "140 is not prime\n",
            "141 is not prime\n",
            "142 is not prime\n",
            "143 is not prime\n",
            "144 is not prime\n",
            "145 is not prime\n",
            "146 is not prime\n",
            "147 is not prime\n",
            "148 is not prime\n",
            "149 is a prime number\n",
            "150 is not prime\n",
            "151 is a prime number\n",
            "152 is not prime\n",
            "153 is not prime\n",
            "154 is not prime\n",
            "155 is not prime\n",
            "156 is not prime\n",
            "157 is a prime number\n",
            "158 is not prime\n",
            "159 is not prime\n",
            "160 is not prime\n",
            "161 is not prime\n",
            "162 is not prime\n",
            "163 is a prime number\n",
            "164 is not prime\n",
            "165 is not prime\n",
            "166 is not prime\n",
            "167 is a prime number\n",
            "168 is not prime\n",
            "169 is not prime\n",
            "170 is not prime\n",
            "171 is not prime\n",
            "172 is not prime\n",
            "173 is a prime number\n",
            "174 is not prime\n",
            "175 is not prime\n",
            "176 is not prime\n",
            "177 is not prime\n",
            "178 is not prime\n",
            "179 is a prime number\n",
            "180 is not prime\n",
            "181 is a prime number\n",
            "182 is not prime\n",
            "183 is not prime\n",
            "184 is not prime\n",
            "185 is not prime\n",
            "186 is not prime\n",
            "187 is not prime\n",
            "188 is not prime\n",
            "189 is not prime\n",
            "190 is not prime\n",
            "191 is a prime number\n",
            "192 is not prime\n",
            "193 is a prime number\n",
            "194 is not prime\n",
            "195 is not prime\n",
            "196 is not prime\n",
            "197 is a prime number\n",
            "198 is not prime\n",
            "199 is a prime number\n",
            "200 is not prime\n"
          ]
        }
      ]
    },
    {
      "cell_type": "markdown",
      "source": [
        "Question 5. Create an iterator class in Python that generates the Fibonacci sequence up to a specified number of\n",
        "terms"
      ],
      "metadata": {
        "id": "2whH6y55aZL5"
      }
    },
    {
      "cell_type": "code",
      "source": [
        "def fib(n):\n",
        "  a,b=0,1\n",
        "  for i in range(n):\n",
        "    yield a\n",
        "    a,b=b,a+b\n",
        "f=fib(5)\n",
        "next(f)\n",
        "\n"
      ],
      "metadata": {
        "colab": {
          "base_uri": "https://localhost:8080/"
        },
        "id": "d1IDWCkEaemt",
        "outputId": "cf4d8234-1ee5-46d4-a57a-c62bbeb7c65c"
      },
      "execution_count": null,
      "outputs": [
        {
          "output_type": "execute_result",
          "data": {
            "text/plain": [
              "0"
            ]
          },
          "metadata": {},
          "execution_count": 36
        }
      ]
    },
    {
      "cell_type": "code",
      "source": [
        "next(f)"
      ],
      "metadata": {
        "colab": {
          "base_uri": "https://localhost:8080/"
        },
        "id": "ylre2LiAa6fW",
        "outputId": "6f9dd50c-2ef0-459c-9a68-47798105221a"
      },
      "execution_count": null,
      "outputs": [
        {
          "output_type": "execute_result",
          "data": {
            "text/plain": [
              "1"
            ]
          },
          "metadata": {},
          "execution_count": 37
        }
      ]
    },
    {
      "cell_type": "code",
      "source": [
        "next(f)"
      ],
      "metadata": {
        "colab": {
          "base_uri": "https://localhost:8080/"
        },
        "id": "sxr-O4n2cN_X",
        "outputId": "63e6f939-4e5c-4cb6-c9c3-be0917c45511"
      },
      "execution_count": null,
      "outputs": [
        {
          "output_type": "execute_result",
          "data": {
            "text/plain": [
              "1"
            ]
          },
          "metadata": {},
          "execution_count": 38
        }
      ]
    },
    {
      "cell_type": "code",
      "source": [
        "next(f)"
      ],
      "metadata": {
        "colab": {
          "base_uri": "https://localhost:8080/"
        },
        "id": "3wj_k2ttcP0e",
        "outputId": "872a574b-e871-4df4-ac41-b7c51980eca4"
      },
      "execution_count": null,
      "outputs": [
        {
          "output_type": "execute_result",
          "data": {
            "text/plain": [
              "2"
            ]
          },
          "metadata": {},
          "execution_count": 39
        }
      ]
    },
    {
      "cell_type": "code",
      "source": [
        "next(f)"
      ],
      "metadata": {
        "colab": {
          "base_uri": "https://localhost:8080/"
        },
        "id": "aZ7yhr_ncWv2",
        "outputId": "a004ca84-4b7d-442f-bc57-32e554d0a233"
      },
      "execution_count": null,
      "outputs": [
        {
          "output_type": "execute_result",
          "data": {
            "text/plain": [
              "3"
            ]
          },
          "metadata": {},
          "execution_count": 40
        }
      ]
    },
    {
      "cell_type": "code",
      "source": [
        "next(f)"
      ],
      "metadata": {
        "colab": {
          "base_uri": "https://localhost:8080/"
        },
        "id": "UllIcn5PcaJ2",
        "outputId": "e15ab329-20f0-420c-87a6-d8c5b7a73c39"
      },
      "execution_count": null,
      "outputs": [
        {
          "output_type": "execute_result",
          "data": {
            "text/plain": [
              "13"
            ]
          },
          "metadata": {},
          "execution_count": 35
        }
      ]
    },
    {
      "cell_type": "markdown",
      "source": [
        "Question 6. Write a generator function in Python that yields the powers of 2 up to a given exponent."
      ],
      "metadata": {
        "id": "_Qho6583c1Qp"
      }
    },
    {
      "cell_type": "code",
      "source": [
        "def square_number_generator(n):\n",
        "  for i in range(n):\n",
        "    yield i**2\n",
        "gen=square_number_generator(5)\n",
        "print(gen)"
      ],
      "metadata": {
        "colab": {
          "base_uri": "https://localhost:8080/"
        },
        "id": "PXPN5GWDcdEG",
        "outputId": "fd3a0f46-5bec-4aa1-cfa9-2730f920bab8"
      },
      "execution_count": null,
      "outputs": [
        {
          "output_type": "stream",
          "name": "stdout",
          "text": [
            "<generator object square_number_generator at 0x79169125b7d0>\n"
          ]
        }
      ]
    },
    {
      "cell_type": "code",
      "source": [
        "next(gen)"
      ],
      "metadata": {
        "colab": {
          "base_uri": "https://localhost:8080/"
        },
        "id": "TZu5V2wydgFV",
        "outputId": "21ad07b6-eddb-45b7-f845-c44398b25657"
      },
      "execution_count": null,
      "outputs": [
        {
          "output_type": "execute_result",
          "data": {
            "text/plain": [
              "0"
            ]
          },
          "metadata": {},
          "execution_count": 46
        }
      ]
    },
    {
      "cell_type": "code",
      "source": [
        "next(gen)"
      ],
      "metadata": {
        "colab": {
          "base_uri": "https://localhost:8080/"
        },
        "id": "a4Ldyxwtdld9",
        "outputId": "3efce982-874b-4ec9-b071-aac043624234"
      },
      "execution_count": null,
      "outputs": [
        {
          "output_type": "execute_result",
          "data": {
            "text/plain": [
              "1"
            ]
          },
          "metadata": {},
          "execution_count": 47
        }
      ]
    },
    {
      "cell_type": "code",
      "source": [
        "next(gen)"
      ],
      "metadata": {
        "colab": {
          "base_uri": "https://localhost:8080/"
        },
        "id": "HCG6sReldvn9",
        "outputId": "171a99fd-97fb-4d43-f535-95e9487e8c40"
      },
      "execution_count": null,
      "outputs": [
        {
          "output_type": "execute_result",
          "data": {
            "text/plain": [
              "4"
            ]
          },
          "metadata": {},
          "execution_count": 48
        }
      ]
    },
    {
      "cell_type": "code",
      "source": [
        "next(gen)"
      ],
      "metadata": {
        "colab": {
          "base_uri": "https://localhost:8080/"
        },
        "id": "t6uXZXi0dxWd",
        "outputId": "50bde642-b6a7-44dc-80fb-70dd209afcfe"
      },
      "execution_count": null,
      "outputs": [
        {
          "output_type": "execute_result",
          "data": {
            "text/plain": [
              "9"
            ]
          },
          "metadata": {},
          "execution_count": 49
        }
      ]
    },
    {
      "cell_type": "code",
      "source": [
        "next(gen)"
      ],
      "metadata": {
        "colab": {
          "base_uri": "https://localhost:8080/"
        },
        "id": "yOeFphJqdzqE",
        "outputId": "c6cfa543-9a0a-4202-b5e6-bd4dd2d1a7c1"
      },
      "execution_count": null,
      "outputs": [
        {
          "output_type": "execute_result",
          "data": {
            "text/plain": [
              "16"
            ]
          },
          "metadata": {},
          "execution_count": 50
        }
      ]
    },
    {
      "cell_type": "markdown",
      "source": [
        "Question 7:Implement a generator function that reads a file line by line and yields each line as a string"
      ],
      "metadata": {
        "id": "KVtTxzeeNaz4"
      }
    },
    {
      "cell_type": "code",
      "source": [
        "L = [\"Geeks\\n\", \"for\\n\", \"Geeks\\n\"]\n",
        "# Using readlines()\n",
        "file1 = open('myfile.txt', 'r')\n",
        "Lines = file1.readlines()\n",
        "\n",
        "count = 0\n",
        "# Strips the newline character\n",
        "for line in Lines:\n",
        "    count += 1\n",
        "    print(\"Line{}: {}\".format(count, line.strip()))"
      ],
      "metadata": {
        "colab": {
          "base_uri": "https://localhost:8080/"
        },
        "id": "nQ9pF0-INv67",
        "outputId": "d5a57fec-b34b-4280-c07a-d4d1e8dc2b32"
      },
      "execution_count": 12,
      "outputs": [
        {
          "output_type": "stream",
          "name": "stdout",
          "text": [
            "Line1: Geeks\n",
            "Line2: for\n",
            "Line3: Geeks\n"
          ]
        }
      ]
    },
    {
      "cell_type": "markdown",
      "source": [
        "Question 8: Use a lambda function in Python to sort a list of tuples based on the second element of each tuple"
      ],
      "metadata": {
        "id": "cSOmYFGHJRL_"
      }
    },
    {
      "cell_type": "code",
      "source": [
        "list_tuple=[(1,3),(4,3),(4,1),(2,5)]\n",
        "# sort the second element in tuple\n",
        "sorted_list=sorted(list_tuple,key=lambda x: x[1])\n",
        "print(sorted_list)"
      ],
      "metadata": {
        "colab": {
          "base_uri": "https://localhost:8080/"
        },
        "id": "DL1q2W5zefad",
        "outputId": "c28f3e11-6c21-4b92-8865-071721b4e6b8"
      },
      "execution_count": null,
      "outputs": [
        {
          "output_type": "stream",
          "name": "stdout",
          "text": [
            "[(4, 1), (1, 3), (4, 3), (2, 5)]\n"
          ]
        }
      ]
    },
    {
      "cell_type": "markdown",
      "source": [
        "Question 9: Write a Python program that uses `map()` to convert a list of temperatures from Celsius to Fahrenheit"
      ],
      "metadata": {
        "id": "WHcUYnkFh6gP"
      }
    },
    {
      "cell_type": "code",
      "source": [
        "def celsius_to_Fahrenheit(celsius):\n",
        "  return (celsius*9/5)+32\n",
        "\n",
        "celsius=[0,20,40,80,100]\n",
        "\n",
        "# covert the celsius to fahrenhiet usin map function\n",
        "\n",
        "fahrenheit=list(map(celsius_to_Fahrenheit,celsius))\n",
        "print(fahrenheit)"
      ],
      "metadata": {
        "colab": {
          "base_uri": "https://localhost:8080/"
        },
        "id": "_MTrd5peiEJL",
        "outputId": "d6338b21-dfe2-427c-9d8c-72e26c358d31"
      },
      "execution_count": null,
      "outputs": [
        {
          "output_type": "stream",
          "name": "stdout",
          "text": [
            "[32.0, 68.0, 104.0, 176.0, 212.0]\n"
          ]
        }
      ]
    },
    {
      "cell_type": "code",
      "source": [
        "#OR\n",
        "# using lambda or map() fnction\n",
        "l=[0,20,40,60,80,100]\n",
        "list(map(lambda x:(x*9/5)+32,l))"
      ],
      "metadata": {
        "colab": {
          "base_uri": "https://localhost:8080/"
        },
        "id": "JD7luIf9jciU",
        "outputId": "a9b4393c-fc65-445c-a284-fbfeba35d546"
      },
      "execution_count": null,
      "outputs": [
        {
          "output_type": "execute_result",
          "data": {
            "text/plain": [
              "[32.0, 68.0, 104.0, 140.0, 176.0, 212.0]"
            ]
          },
          "metadata": {},
          "execution_count": 63
        }
      ]
    },
    {
      "cell_type": "markdown",
      "source": [
        "Question 10: Create a Python program that uses `filter()` to remove all the vowels from a given string."
      ],
      "metadata": {
        "id": "i3rR5PcakXsQ"
      }
    },
    {
      "cell_type": "code",
      "source": [
        "def remove_vowel(input_string):\n",
        "  vowel=\"AEIOUaeiou\"\n",
        "  result=filter(lambda char:char not in vowel,input_string)\n",
        "  return''. join(result)\n",
        "input_string=\"hello world\"\n",
        "output_string=remove_vowel(input_string)\n",
        "print(output_string)"
      ],
      "metadata": {
        "colab": {
          "base_uri": "https://localhost:8080/"
        },
        "id": "CYEkjyyMkeft",
        "outputId": "3b166a50-1273-4ecf-9b66-f08585972ef5"
      },
      "execution_count": null,
      "outputs": [
        {
          "output_type": "stream",
          "name": "stdout",
          "text": [
            "hll wrld\n"
          ]
        }
      ]
    },
    {
      "cell_type": "markdown",
      "source": [
        "Question 11: ) Imagine an accounting routine used in a book shop. It works on a list with sublists, which look like this:\n",
        "\n",
        "\n",
        "\n",
        "\n",
        "\n",
        "\n",
        "\n",
        "Write a Python program, which returns a list with 2-tuples. Each tuple consists of the order number and the\n",
        "product of the price per item and the quantity. The product should be increased by 10,- € if the value of the\n",
        "order is smaller than 100,00 €.\n",
        "\n",
        "Write a Python program using lambda and ma"
      ],
      "metadata": {
        "id": "2DnBgg7kpMCe"
      }
    },
    {
      "cell_type": "code",
      "source": [
        "orders=[(34587,'Learning Python,Mark Litz',4,40.95),\n",
        "        (98762,'Programming Python, Mark Litz',5,56.80),\n",
        "        (77226,'Head  FirstPython,Paul Barry',3,32.95),\n",
        "        (88112,'Einfuhrung in Python3,  Bernd Klein',3,24.99)]\n",
        "\n",
        "result=list(map(lambda x:(x[0],x[2]*x[3]+10 if x[2]*x[3]<1000 else x[2]*x[3]),orders))\n",
        "print(result)"
      ],
      "metadata": {
        "colab": {
          "base_uri": "https://localhost:8080/"
        },
        "id": "Og8l0ZQJqMZ6",
        "outputId": "bdf8b448-e0b2-4e7a-cc4f-b6a6f114a693"
      },
      "execution_count": null,
      "outputs": [
        {
          "output_type": "stream",
          "name": "stdout",
          "text": [
            "[(34587, 173.8), (98762, 294.0), (77226, 108.85000000000001), (88112, 84.97)]\n"
          ]
        }
      ]
    }
  ]
}